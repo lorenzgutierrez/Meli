{
 "cells": [
  {
   "cell_type": "code",
   "execution_count": 4,
   "metadata": {},
   "outputs": [],
   "source": [
    "import numpy as np\n",
    "import pandas as pd\n",
    "import scipy as sp\n",
    "%matplotlib widget\n",
    "import matplotlib.pyplot as plt\n"
   ]
  },
  {
   "cell_type": "markdown",
   "metadata": {},
   "source": [
    "Se necesita de la dependencia pyarrow. (pip install pyarrow)"
   ]
  },
  {
   "cell_type": "code",
   "execution_count": 5,
   "metadata": {},
   "outputs": [],
   "source": [
    "data_train = pd.read_parquet(\"Data/train_data.parquet\",engine=\"pyarrow\")\n",
    "data_train['date'] =  pd.to_datetime(data_train['date'])\n"
   ]
  },
  {
   "cell_type": "markdown",
   "metadata": {
    "tags": []
   },
   "source": [
    "Exploramos data"
   ]
  },
  {
   "cell_type": "code",
   "execution_count": 6,
   "metadata": {},
   "outputs": [
    {
     "name": "stdout",
     "output_type": "stream",
     "text": [
      "Número de datos: 338942511\n",
      "Stock elements: 660916\n"
     ]
    },
    {
     "data": {
      "text/html": [
       "<div>\n",
       "<style scoped>\n",
       "    .dataframe tbody tr th:only-of-type {\n",
       "        vertical-align: middle;\n",
       "    }\n",
       "\n",
       "    .dataframe tbody tr th {\n",
       "        vertical-align: top;\n",
       "    }\n",
       "\n",
       "    .dataframe thead th {\n",
       "        text-align: right;\n",
       "    }\n",
       "</style>\n",
       "<table border=\"1\" class=\"dataframe\">\n",
       "  <thead>\n",
       "    <tr style=\"text-align: right;\">\n",
       "      <th></th>\n",
       "      <th>sku</th>\n",
       "      <th>date</th>\n",
       "      <th>sold_quantity</th>\n",
       "      <th>current_price</th>\n",
       "      <th>currency</th>\n",
       "      <th>listing_type</th>\n",
       "      <th>shipping_logistic_type</th>\n",
       "      <th>shipping_payment</th>\n",
       "      <th>minutes_active</th>\n",
       "    </tr>\n",
       "  </thead>\n",
       "  <tbody>\n",
       "    <tr>\n",
       "      <th>12226674</th>\n",
       "      <td>392709</td>\n",
       "      <td>2021-03-30</td>\n",
       "      <td>0</td>\n",
       "      <td>34.99</td>\n",
       "      <td>REA</td>\n",
       "      <td>classic</td>\n",
       "      <td>fulfillment</td>\n",
       "      <td>paid_shipping</td>\n",
       "      <td>0.0</td>\n",
       "    </tr>\n",
       "    <tr>\n",
       "      <th>12468538</th>\n",
       "      <td>617723</td>\n",
       "      <td>2021-03-21</td>\n",
       "      <td>0</td>\n",
       "      <td>23.66</td>\n",
       "      <td>REA</td>\n",
       "      <td>classic</td>\n",
       "      <td>cross_docking</td>\n",
       "      <td>paid_shipping</td>\n",
       "      <td>1440.0</td>\n",
       "    </tr>\n",
       "    <tr>\n",
       "      <th>29107438</th>\n",
       "      <td>639094</td>\n",
       "      <td>2021-02-07</td>\n",
       "      <td>0</td>\n",
       "      <td>426.51</td>\n",
       "      <td>MEX</td>\n",
       "      <td>premium</td>\n",
       "      <td>fulfillment</td>\n",
       "      <td>free_shipping</td>\n",
       "      <td>0.0</td>\n",
       "    </tr>\n",
       "    <tr>\n",
       "      <th>14959376</th>\n",
       "      <td>139685</td>\n",
       "      <td>2021-02-20</td>\n",
       "      <td>0</td>\n",
       "      <td>2.99</td>\n",
       "      <td>REA</td>\n",
       "      <td>classic</td>\n",
       "      <td>fulfillment</td>\n",
       "      <td>paid_shipping</td>\n",
       "      <td>1440.0</td>\n",
       "    </tr>\n",
       "    <tr>\n",
       "      <th>17640994</th>\n",
       "      <td>60108</td>\n",
       "      <td>2021-02-03</td>\n",
       "      <td>0</td>\n",
       "      <td>99.00</td>\n",
       "      <td>REA</td>\n",
       "      <td>classic</td>\n",
       "      <td>cross_docking</td>\n",
       "      <td>free_shipping</td>\n",
       "      <td>1440.0</td>\n",
       "    </tr>\n",
       "    <tr>\n",
       "      <th>5282511</th>\n",
       "      <td>309165</td>\n",
       "      <td>2021-02-09</td>\n",
       "      <td>0</td>\n",
       "      <td>119.99</td>\n",
       "      <td>REA</td>\n",
       "      <td>premium</td>\n",
       "      <td>fulfillment</td>\n",
       "      <td>free_shipping</td>\n",
       "      <td>1440.0</td>\n",
       "    </tr>\n",
       "    <tr>\n",
       "      <th>12496350</th>\n",
       "      <td>620234</td>\n",
       "      <td>2021-02-23</td>\n",
       "      <td>0</td>\n",
       "      <td>7.63</td>\n",
       "      <td>REA</td>\n",
       "      <td>classic</td>\n",
       "      <td>fulfillment</td>\n",
       "      <td>paid_shipping</td>\n",
       "      <td>0.0</td>\n",
       "    </tr>\n",
       "    <tr>\n",
       "      <th>12946239</th>\n",
       "      <td>290358</td>\n",
       "      <td>2021-03-05</td>\n",
       "      <td>0</td>\n",
       "      <td>8.41</td>\n",
       "      <td>REA</td>\n",
       "      <td>classic</td>\n",
       "      <td>fulfillment</td>\n",
       "      <td>paid_shipping</td>\n",
       "      <td>1440.0</td>\n",
       "    </tr>\n",
       "    <tr>\n",
       "      <th>4610160</th>\n",
       "      <td>61356</td>\n",
       "      <td>2021-02-20</td>\n",
       "      <td>0</td>\n",
       "      <td>139.00</td>\n",
       "      <td>REA</td>\n",
       "      <td>premium</td>\n",
       "      <td>fulfillment</td>\n",
       "      <td>free_shipping</td>\n",
       "      <td>0.0</td>\n",
       "    </tr>\n",
       "    <tr>\n",
       "      <th>10470378</th>\n",
       "      <td>613194</td>\n",
       "      <td>2021-02-23</td>\n",
       "      <td>0</td>\n",
       "      <td>599.00</td>\n",
       "      <td>REA</td>\n",
       "      <td>classic</td>\n",
       "      <td>fulfillment</td>\n",
       "      <td>free_shipping</td>\n",
       "      <td>1440.0</td>\n",
       "    </tr>\n",
       "  </tbody>\n",
       "</table>\n",
       "</div>"
      ],
      "text/plain": [
       "             sku       date  sold_quantity  current_price currency  \\\n",
       "12226674  392709 2021-03-30              0          34.99      REA   \n",
       "12468538  617723 2021-03-21              0          23.66      REA   \n",
       "29107438  639094 2021-02-07              0         426.51      MEX   \n",
       "14959376  139685 2021-02-20              0           2.99      REA   \n",
       "17640994   60108 2021-02-03              0          99.00      REA   \n",
       "5282511   309165 2021-02-09              0         119.99      REA   \n",
       "12496350  620234 2021-02-23              0           7.63      REA   \n",
       "12946239  290358 2021-03-05              0           8.41      REA   \n",
       "4610160    61356 2021-02-20              0         139.00      REA   \n",
       "10470378  613194 2021-02-23              0         599.00      REA   \n",
       "\n",
       "         listing_type shipping_logistic_type shipping_payment  minutes_active  \n",
       "12226674      classic            fulfillment    paid_shipping             0.0  \n",
       "12468538      classic          cross_docking    paid_shipping          1440.0  \n",
       "29107438      premium            fulfillment    free_shipping             0.0  \n",
       "14959376      classic            fulfillment    paid_shipping          1440.0  \n",
       "17640994      classic          cross_docking    free_shipping          1440.0  \n",
       "5282511       premium            fulfillment    free_shipping          1440.0  \n",
       "12496350      classic            fulfillment    paid_shipping             0.0  \n",
       "12946239      classic            fulfillment    paid_shipping          1440.0  \n",
       "4610160       premium            fulfillment    free_shipping             0.0  \n",
       "10470378      classic            fulfillment    free_shipping          1440.0  "
      ]
     },
     "execution_count": 6,
     "metadata": {},
     "output_type": "execute_result"
    }
   ],
   "source": [
    "print(\"Número de datos:\",data_train.size)\n",
    "print(\"Stock elements:\" ,data_train.sku.unique().size)\n",
    "data_train.sample(10)"
   ]
  },
  {
   "cell_type": "markdown",
   "metadata": {},
   "source": [
    "## Attributes \tDescription\n",
    "**date** : ranges from 1-2-21 to 31-3-21  \n",
    "**sold_quantity** : \tnumber of units of the corresponding SKU that were sold on that particular date.  \n",
    "**current_price** \tcurrency in which the price is expressed.  \n",
    "**currency** \tpoint in time correct listing price.  \n",
    "**listing_type** \ttype of listing the SKU had for that particular date. Possible values are classic or premium and they relate to the exposure the items receive and the fee charged to the seller as a sales comission.  \n",
    "**shipping_logistic_type** \ttype of shipping method the SKU offered, for that particular date. Possible values are fulfillment, cross_docking and drop_off.  \n",
    "**shipping_payment** \twhether the shipping for the offered SKU at that particular date was free or paid, from the buyer's perspective.  \n",
    "**minutes_active** \tnumber of minutes the SKU was available for purchase on that particular date.  "
   ]
  },
  {
   "cell_type": "markdown",
   "metadata": {},
   "source": [
    "## One `sku` analysis"
   ]
  },
  {
   "cell_type": "code",
   "execution_count": 7,
   "metadata": {},
   "outputs": [
    {
     "data": {
      "text/html": [
       "<div>\n",
       "<style scoped>\n",
       "    .dataframe tbody tr th:only-of-type {\n",
       "        vertical-align: middle;\n",
       "    }\n",
       "\n",
       "    .dataframe tbody tr th {\n",
       "        vertical-align: top;\n",
       "    }\n",
       "\n",
       "    .dataframe thead th {\n",
       "        text-align: right;\n",
       "    }\n",
       "</style>\n",
       "<table border=\"1\" class=\"dataframe\">\n",
       "  <thead>\n",
       "    <tr style=\"text-align: right;\">\n",
       "      <th></th>\n",
       "      <th>sku</th>\n",
       "      <th>date</th>\n",
       "      <th>sold_quantity</th>\n",
       "      <th>current_price</th>\n",
       "      <th>currency</th>\n",
       "      <th>listing_type</th>\n",
       "      <th>shipping_logistic_type</th>\n",
       "      <th>shipping_payment</th>\n",
       "      <th>minutes_active</th>\n",
       "    </tr>\n",
       "  </thead>\n",
       "  <tbody>\n",
       "    <tr>\n",
       "      <th>0</th>\n",
       "      <td>464801</td>\n",
       "      <td>2021-02-01</td>\n",
       "      <td>0</td>\n",
       "      <td>156.78</td>\n",
       "      <td>REA</td>\n",
       "      <td>classic</td>\n",
       "      <td>fulfillment</td>\n",
       "      <td>free_shipping</td>\n",
       "      <td>1440.0</td>\n",
       "    </tr>\n",
       "    <tr>\n",
       "      <th>1</th>\n",
       "      <td>464801</td>\n",
       "      <td>2021-02-02</td>\n",
       "      <td>0</td>\n",
       "      <td>156.78</td>\n",
       "      <td>REA</td>\n",
       "      <td>classic</td>\n",
       "      <td>fulfillment</td>\n",
       "      <td>free_shipping</td>\n",
       "      <td>1440.0</td>\n",
       "    </tr>\n",
       "    <tr>\n",
       "      <th>2</th>\n",
       "      <td>464801</td>\n",
       "      <td>2021-02-03</td>\n",
       "      <td>0</td>\n",
       "      <td>156.78</td>\n",
       "      <td>REA</td>\n",
       "      <td>classic</td>\n",
       "      <td>fulfillment</td>\n",
       "      <td>free_shipping</td>\n",
       "      <td>1440.0</td>\n",
       "    </tr>\n",
       "    <tr>\n",
       "      <th>3</th>\n",
       "      <td>464801</td>\n",
       "      <td>2021-02-04</td>\n",
       "      <td>0</td>\n",
       "      <td>156.78</td>\n",
       "      <td>REA</td>\n",
       "      <td>classic</td>\n",
       "      <td>fulfillment</td>\n",
       "      <td>free_shipping</td>\n",
       "      <td>1440.0</td>\n",
       "    </tr>\n",
       "    <tr>\n",
       "      <th>4</th>\n",
       "      <td>464801</td>\n",
       "      <td>2021-02-05</td>\n",
       "      <td>1</td>\n",
       "      <td>156.78</td>\n",
       "      <td>REA</td>\n",
       "      <td>classic</td>\n",
       "      <td>fulfillment</td>\n",
       "      <td>free_shipping</td>\n",
       "      <td>1440.0</td>\n",
       "    </tr>\n",
       "  </tbody>\n",
       "</table>\n",
       "</div>"
      ],
      "text/plain": [
       "      sku       date  sold_quantity  current_price currency listing_type  \\\n",
       "0  464801 2021-02-01              0         156.78      REA      classic   \n",
       "1  464801 2021-02-02              0         156.78      REA      classic   \n",
       "2  464801 2021-02-03              0         156.78      REA      classic   \n",
       "3  464801 2021-02-04              0         156.78      REA      classic   \n",
       "4  464801 2021-02-05              1         156.78      REA      classic   \n",
       "\n",
       "  shipping_logistic_type shipping_payment  minutes_active  \n",
       "0            fulfillment    free_shipping          1440.0  \n",
       "1            fulfillment    free_shipping          1440.0  \n",
       "2            fulfillment    free_shipping          1440.0  \n",
       "3            fulfillment    free_shipping          1440.0  \n",
       "4            fulfillment    free_shipping          1440.0  "
      ]
     },
     "execution_count": 7,
     "metadata": {},
     "output_type": "execute_result"
    }
   ],
   "source": [
    "filt_sku = data_train[data_train.sku == 464801 ]\n",
    "filt_sku.head()"
   ]
  },
  {
   "cell_type": "code",
   "execution_count": 8,
   "metadata": {},
   "outputs": [
    {
     "data": {
      "application/vnd.jupyter.widget-view+json": {
       "model_id": "fac6446c20d6486891ceb6683c843a5e",
       "version_major": 2,
       "version_minor": 0
      },
      "text/plain": [
       "Canvas(toolbar=Toolbar(toolitems=[('Home', 'Reset original view', 'home', 'home'), ('Back', 'Back to previous …"
      ]
     },
     "metadata": {},
     "output_type": "display_data"
    },
    {
     "name": "stderr",
     "output_type": "stream",
     "text": [
      "<ipython-input-8-d622e045cea5>:2: UserWarning: marker is redundantly defined by the 'marker' keyword argument and the fmt string \"o\" (-> marker='o'). The keyword argument will take precedence.\n",
      "  ax.plot_date(filt_sku.date,filt_sku.sold_quantity,\n"
     ]
    },
    {
     "data": {
      "text/plain": [
       "Text(0.5, 1.0, 'sku 464801')"
      ]
     },
     "execution_count": 8,
     "metadata": {},
     "output_type": "execute_result"
    }
   ],
   "source": [
    "fig, ax = plt.subplots(figsize = (10,10))\n",
    "ax.plot_date(filt_sku.date,filt_sku.sold_quantity,\n",
    "             **dict(marker=\"o\",linestyle=\":\",alpha=.8,mfc=\"none\"))\n",
    "ax.set_title(\"sku 464801\")\n"
   ]
  },
  {
   "cell_type": "code",
   "execution_count": 9,
   "metadata": {},
   "outputs": [
    {
     "name": "stdout",
     "output_type": "stream",
     "text": [
      "Period is 58 days\n",
      "This sku as a total of 15 sales\n"
     ]
    }
   ],
   "source": [
    "# -- what is the range of days for this sku?\n",
    "T_sku464801 = filt_sku.date.max() - filt_sku.date.min()\n",
    "print(f\"Period is {T_sku464801.days} days\")\n",
    "\n",
    "# -- what is the total amount of sales for this sku?\n",
    "tot_sold_sku464801 = filt_sku[\"sold_quantity\"].sum()\n",
    "\n",
    "print(f\"This sku as a total of {tot_sold_sku464801} sales\")"
   ]
  },
  {
   "cell_type": "markdown",
   "metadata": {},
   "source": [
    "## Analysis by `sku`"
   ]
  },
  {
   "cell_type": "code",
   "execution_count": 10,
   "metadata": {},
   "outputs": [],
   "source": [
    "# -- Do we have the same amount of data by days for every sku?\n",
    "#    Let's check the sku vs T[days] distribution\n",
    "\n",
    "# tt = train_raw_DF.groupby(by=[\"sku\",\"date\"])\n",
    "maxt = data_train.loc[:,[\"sku\",\"date\"]].groupby(by=[\"sku\"]).max()\n",
    "mint = data_train.loc[:,[\"sku\",\"date\"]].groupby(by=[\"sku\"]).min()\n",
    "T = maxt - mint\n",
    "\n",
    "# -- convert T to int.\n",
    "T.date = T.date.dt.days\n"
   ]
  },
  {
   "cell_type": "code",
   "execution_count": 11,
   "metadata": {},
   "outputs": [],
   "source": [
    "_fs = 16\n",
    "bin_edges = [0,5,10,15,20,25,30,35,40,45,50,55,56,57,58,59,60,70]\n",
    "plt.hist(x=T.date,bins=bin_edges,\n",
    "         histtype=\"step\",\n",
    "         **dict(lw=2,alpha=.8))\n",
    "plt.xlabel(\"T [days]\",fontsize=_fs)\n",
    "plt.ylabel(\"Count sku\",fontsize=_fs)\n",
    "plt.yscale(\"log\")\n",
    "plt.ylim((1e3,1e6))\n",
    "plt.grid()\n",
    "plt.show()"
   ]
  },
  {
   "cell_type": "markdown",
   "metadata": {},
   "source": [
    "## Simple correlation analysis\n",
    "\n",
    "There exists a correlation dependence on the number of elements sold?  \n",
    "We calculate the correlations by `sku`. Since there are roughly 660000 sku, a correlation matrix would be of size 660000^2 elements, not practical. What to do?"
   ]
  },
  {
   "cell_type": "code",
   "execution_count": 12,
   "metadata": {},
   "outputs": [],
   "source": [
    "sku_choices = np.random.choice(len(data_train.sku.unique()),2) #would Chooose to sku at random"
   ]
  },
  {
   "cell_type": "code",
   "execution_count": 13,
   "metadata": {},
   "outputs": [],
   "source": [
    "x = data_train[data_train.sku == sku_choices[0]]\n",
    "y = data_train[data_train.sku == sku_choices[1]]"
   ]
  },
  {
   "cell_type": "code",
   "execution_count": 14,
   "metadata": {},
   "outputs": [],
   "source": [
    "corr = np.correlate(x.sold_quantity,y.sold_quantity,mode = \"full\") # Correlate, this mode is not a simple correlation but a convolution."
   ]
  },
  {
   "cell_type": "code",
   "execution_count": 15,
   "metadata": {},
   "outputs": [
    {
     "data": {
      "application/vnd.jupyter.widget-view+json": {
       "model_id": "a49a12a1086d4b768db01d6caadb0ebf",
       "version_major": 2,
       "version_minor": 0
      },
      "text/plain": [
       "Canvas(toolbar=Toolbar(toolitems=[('Home', 'Reset original view', 'home', 'home'), ('Back', 'Back to previous …"
      ]
     },
     "metadata": {},
     "output_type": "display_data"
    },
    {
     "data": {
      "text/plain": [
       "Text(0, 0.5, 'correlation')"
      ]
     },
     "execution_count": 15,
     "metadata": {},
     "output_type": "execute_result"
    }
   ],
   "source": [
    "fig,ax = plt.subplots(1)\n",
    "days = np.arange(-x.date.size,x.date.size-1)\n",
    "ax.plot(days,corr)\n",
    "ax.set_ylabel(\"correlation\")"
   ]
  },
  {
   "cell_type": "code",
   "execution_count": 16,
   "metadata": {},
   "outputs": [],
   "source": [
    "sku_list = data_train.sku.unique()\n",
    "sku_pivot = data_train.pivot(index=\"sku\",columns=\"date\",values=\"sold_quantity\")"
   ]
  },
  {
   "cell_type": "code",
   "execution_count": null,
   "metadata": {},
   "outputs": [],
   "source": []
  }
 ],
 "metadata": {
  "kernelspec": {
   "display_name": "Python 3",
   "language": "python",
   "name": "python3"
  },
  "language_info": {
   "codemirror_mode": {
    "name": "ipython",
    "version": 3
   },
   "file_extension": ".py",
   "mimetype": "text/x-python",
   "name": "python",
   "nbconvert_exporter": "python",
   "pygments_lexer": "ipython3",
   "version": "3.9.5"
  }
 },
 "nbformat": 4,
 "nbformat_minor": 4
}
