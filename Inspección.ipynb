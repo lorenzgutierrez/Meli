{
 "cells": [
  {
   "cell_type": "code",
   "execution_count": 3,
   "metadata": {},
   "outputs": [],
   "source": [
    "import numpy as np\n",
    "import pandas as pd\n",
    "import scipy as sp\n",
    "%matplotlib widget\n",
    "import matplotlib.pyplot as plt\n",
    "import seaborn as sns\n",
    "import copy as cp\n",
    "import itertools"
   ]
  },
  {
   "cell_type": "markdown",
   "metadata": {},
   "source": [
    "Se necesita de la dependencia pyarrow. (pip install pyarrow)"
   ]
  },
  {
   "cell_type": "markdown",
   "metadata": {},
   "source": [
    "# Train Data"
   ]
  },
  {
   "cell_type": "code",
   "execution_count": 4,
   "metadata": {},
   "outputs": [],
   "source": [
    "data_train = pd.read_parquet(\"Data/train_data.parquet\",engine=\"pyarrow\")\n",
    "data_train['date'] =  pd.to_datetime(data_train['date'])\n"
   ]
  },
  {
   "cell_type": "markdown",
   "metadata": {
    "tags": []
   },
   "source": [
    "Exploramos data"
   ]
  },
  {
   "cell_type": "code",
   "execution_count": 5,
   "metadata": {},
   "outputs": [
    {
     "name": "stdout",
     "output_type": "stream",
     "text": [
      "Número de datos: 338942511\n",
      "Stock elements: 660916\n"
     ]
    },
    {
     "data": {
      "text/html": [
       "<div>\n",
       "<style scoped>\n",
       "    .dataframe tbody tr th:only-of-type {\n",
       "        vertical-align: middle;\n",
       "    }\n",
       "\n",
       "    .dataframe tbody tr th {\n",
       "        vertical-align: top;\n",
       "    }\n",
       "\n",
       "    .dataframe thead th {\n",
       "        text-align: right;\n",
       "    }\n",
       "</style>\n",
       "<table border=\"1\" class=\"dataframe\">\n",
       "  <thead>\n",
       "    <tr style=\"text-align: right;\">\n",
       "      <th></th>\n",
       "      <th>sku</th>\n",
       "      <th>date</th>\n",
       "      <th>sold_quantity</th>\n",
       "      <th>current_price</th>\n",
       "      <th>currency</th>\n",
       "      <th>listing_type</th>\n",
       "      <th>shipping_logistic_type</th>\n",
       "      <th>shipping_payment</th>\n",
       "      <th>minutes_active</th>\n",
       "    </tr>\n",
       "  </thead>\n",
       "  <tbody>\n",
       "    <tr>\n",
       "      <th>27717004</th>\n",
       "      <td>194367</td>\n",
       "      <td>2021-03-04</td>\n",
       "      <td>0</td>\n",
       "      <td>85.00</td>\n",
       "      <td>MEX</td>\n",
       "      <td>classic</td>\n",
       "      <td>fulfillment</td>\n",
       "      <td>paid_shipping</td>\n",
       "      <td>0.000000</td>\n",
       "    </tr>\n",
       "    <tr>\n",
       "      <th>29215673</th>\n",
       "      <td>549042</td>\n",
       "      <td>2021-03-19</td>\n",
       "      <td>1</td>\n",
       "      <td>229.68</td>\n",
       "      <td>MEX</td>\n",
       "      <td>premium</td>\n",
       "      <td>fulfillment</td>\n",
       "      <td>paid_shipping</td>\n",
       "      <td>1440.000000</td>\n",
       "    </tr>\n",
       "    <tr>\n",
       "      <th>36813660</th>\n",
       "      <td>641007</td>\n",
       "      <td>2021-03-31</td>\n",
       "      <td>0</td>\n",
       "      <td>377.00</td>\n",
       "      <td>ARG</td>\n",
       "      <td>classic</td>\n",
       "      <td>fulfillment</td>\n",
       "      <td>paid_shipping</td>\n",
       "      <td>1440.000000</td>\n",
       "    </tr>\n",
       "    <tr>\n",
       "      <th>33272293</th>\n",
       "      <td>426206</td>\n",
       "      <td>2021-02-18</td>\n",
       "      <td>0</td>\n",
       "      <td>169.00</td>\n",
       "      <td>MEX</td>\n",
       "      <td>premium</td>\n",
       "      <td>drop_off</td>\n",
       "      <td>paid_shipping</td>\n",
       "      <td>836.163667</td>\n",
       "    </tr>\n",
       "    <tr>\n",
       "      <th>37006486</th>\n",
       "      <td>456695</td>\n",
       "      <td>2021-02-23</td>\n",
       "      <td>3</td>\n",
       "      <td>3199.00</td>\n",
       "      <td>ARG</td>\n",
       "      <td>classic</td>\n",
       "      <td>fulfillment</td>\n",
       "      <td>paid_shipping</td>\n",
       "      <td>1440.000000</td>\n",
       "    </tr>\n",
       "    <tr>\n",
       "      <th>10352086</th>\n",
       "      <td>204991</td>\n",
       "      <td>2021-02-14</td>\n",
       "      <td>0</td>\n",
       "      <td>249.99</td>\n",
       "      <td>REA</td>\n",
       "      <td>premium</td>\n",
       "      <td>fulfillment</td>\n",
       "      <td>free_shipping</td>\n",
       "      <td>1440.000000</td>\n",
       "    </tr>\n",
       "    <tr>\n",
       "      <th>15754394</th>\n",
       "      <td>114947</td>\n",
       "      <td>2021-02-27</td>\n",
       "      <td>0</td>\n",
       "      <td>32.70</td>\n",
       "      <td>REA</td>\n",
       "      <td>premium</td>\n",
       "      <td>drop_off</td>\n",
       "      <td>paid_shipping</td>\n",
       "      <td>1440.000000</td>\n",
       "    </tr>\n",
       "    <tr>\n",
       "      <th>12866095</th>\n",
       "      <td>5600</td>\n",
       "      <td>2021-03-19</td>\n",
       "      <td>0</td>\n",
       "      <td>99.00</td>\n",
       "      <td>REA</td>\n",
       "      <td>premium</td>\n",
       "      <td>fulfillment</td>\n",
       "      <td>free_shipping</td>\n",
       "      <td>1440.000000</td>\n",
       "    </tr>\n",
       "    <tr>\n",
       "      <th>3406782</th>\n",
       "      <td>206107</td>\n",
       "      <td>2021-02-24</td>\n",
       "      <td>0</td>\n",
       "      <td>34.99</td>\n",
       "      <td>REA</td>\n",
       "      <td>classic</td>\n",
       "      <td>fulfillment</td>\n",
       "      <td>paid_shipping</td>\n",
       "      <td>1440.000000</td>\n",
       "    </tr>\n",
       "    <tr>\n",
       "      <th>1429985</th>\n",
       "      <td>576493</td>\n",
       "      <td>2021-02-02</td>\n",
       "      <td>0</td>\n",
       "      <td>42.99</td>\n",
       "      <td>REA</td>\n",
       "      <td>classic</td>\n",
       "      <td>cross_docking</td>\n",
       "      <td>paid_shipping</td>\n",
       "      <td>1440.000000</td>\n",
       "    </tr>\n",
       "  </tbody>\n",
       "</table>\n",
       "</div>"
      ],
      "text/plain": [
       "             sku       date  sold_quantity  current_price currency  \\\n",
       "27717004  194367 2021-03-04              0          85.00      MEX   \n",
       "29215673  549042 2021-03-19              1         229.68      MEX   \n",
       "36813660  641007 2021-03-31              0         377.00      ARG   \n",
       "33272293  426206 2021-02-18              0         169.00      MEX   \n",
       "37006486  456695 2021-02-23              3        3199.00      ARG   \n",
       "10352086  204991 2021-02-14              0         249.99      REA   \n",
       "15754394  114947 2021-02-27              0          32.70      REA   \n",
       "12866095    5600 2021-03-19              0          99.00      REA   \n",
       "3406782   206107 2021-02-24              0          34.99      REA   \n",
       "1429985   576493 2021-02-02              0          42.99      REA   \n",
       "\n",
       "         listing_type shipping_logistic_type shipping_payment  minutes_active  \n",
       "27717004      classic            fulfillment    paid_shipping        0.000000  \n",
       "29215673      premium            fulfillment    paid_shipping     1440.000000  \n",
       "36813660      classic            fulfillment    paid_shipping     1440.000000  \n",
       "33272293      premium               drop_off    paid_shipping      836.163667  \n",
       "37006486      classic            fulfillment    paid_shipping     1440.000000  \n",
       "10352086      premium            fulfillment    free_shipping     1440.000000  \n",
       "15754394      premium               drop_off    paid_shipping     1440.000000  \n",
       "12866095      premium            fulfillment    free_shipping     1440.000000  \n",
       "3406782       classic            fulfillment    paid_shipping     1440.000000  \n",
       "1429985       classic          cross_docking    paid_shipping     1440.000000  "
      ]
     },
     "execution_count": 5,
     "metadata": {},
     "output_type": "execute_result"
    }
   ],
   "source": [
    "print(\"Número de datos:\",data_train.size)\n",
    "print(\"Stock elements:\" ,data_train.sku.unique().size)\n",
    "data_train.sample(10)"
   ]
  },
  {
   "cell_type": "markdown",
   "metadata": {},
   "source": [
    "## Attributes \tDescription\n",
    "**date** : ranges from 1-2-21 to 31-3-21  \n",
    "**sold_quantity** : \tnumber of units of the corresponding SKU that were sold on that particular date.  \n",
    "**current_price** \tcurrency in which the price is expressed.  \n",
    "**currency** \tpoint in time correct listing price.  \n",
    "**listing_type** \ttype of listing the SKU had for that particular date. Possible values are classic or premium and they relate to the exposure the items receive and the fee charged to the seller as a sales comission.  \n",
    "**shipping_logistic_type** \ttype of shipping method the SKU offered, for that particular date. Possible values are fulfillment, cross_docking and drop_off.  \n",
    "**shipping_payment** \twhether the shipping for the offered SKU at that particular date was free or paid, from the buyer's perspective.  \n",
    "**minutes_active** \tnumber of minutes the SKU was available for purchase on that particular date.  "
   ]
  },
  {
   "cell_type": "markdown",
   "metadata": {},
   "source": [
    "## One `sku` analysis"
   ]
  },
  {
   "cell_type": "code",
   "execution_count": 13,
   "metadata": {
    "tags": []
   },
   "outputs": [
    {
     "data": {
      "text/html": [
       "<div>\n",
       "<style scoped>\n",
       "    .dataframe tbody tr th:only-of-type {\n",
       "        vertical-align: middle;\n",
       "    }\n",
       "\n",
       "    .dataframe tbody tr th {\n",
       "        vertical-align: top;\n",
       "    }\n",
       "\n",
       "    .dataframe thead th {\n",
       "        text-align: right;\n",
       "    }\n",
       "</style>\n",
       "<table border=\"1\" class=\"dataframe\">\n",
       "  <thead>\n",
       "    <tr style=\"text-align: right;\">\n",
       "      <th></th>\n",
       "      <th>sku</th>\n",
       "      <th>date</th>\n",
       "      <th>sold_quantity</th>\n",
       "      <th>current_price</th>\n",
       "      <th>currency</th>\n",
       "      <th>listing_type</th>\n",
       "      <th>shipping_logistic_type</th>\n",
       "      <th>shipping_payment</th>\n",
       "      <th>minutes_active</th>\n",
       "    </tr>\n",
       "  </thead>\n",
       "  <tbody>\n",
       "    <tr>\n",
       "      <th>20373673</th>\n",
       "      <td>125729</td>\n",
       "      <td>2021-02-01</td>\n",
       "      <td>0</td>\n",
       "      <td>404.0</td>\n",
       "      <td>MEX</td>\n",
       "      <td>classic</td>\n",
       "      <td>cross_docking</td>\n",
       "      <td>free_shipping</td>\n",
       "      <td>0.0</td>\n",
       "    </tr>\n",
       "    <tr>\n",
       "      <th>20373674</th>\n",
       "      <td>125729</td>\n",
       "      <td>2021-02-02</td>\n",
       "      <td>0</td>\n",
       "      <td>404.0</td>\n",
       "      <td>MEX</td>\n",
       "      <td>classic</td>\n",
       "      <td>cross_docking</td>\n",
       "      <td>free_shipping</td>\n",
       "      <td>0.0</td>\n",
       "    </tr>\n",
       "    <tr>\n",
       "      <th>20373675</th>\n",
       "      <td>125729</td>\n",
       "      <td>2021-02-03</td>\n",
       "      <td>0</td>\n",
       "      <td>404.0</td>\n",
       "      <td>MEX</td>\n",
       "      <td>classic</td>\n",
       "      <td>cross_docking</td>\n",
       "      <td>free_shipping</td>\n",
       "      <td>0.0</td>\n",
       "    </tr>\n",
       "    <tr>\n",
       "      <th>20373676</th>\n",
       "      <td>125729</td>\n",
       "      <td>2021-02-04</td>\n",
       "      <td>0</td>\n",
       "      <td>404.0</td>\n",
       "      <td>MEX</td>\n",
       "      <td>classic</td>\n",
       "      <td>cross_docking</td>\n",
       "      <td>free_shipping</td>\n",
       "      <td>0.0</td>\n",
       "    </tr>\n",
       "    <tr>\n",
       "      <th>20373677</th>\n",
       "      <td>125729</td>\n",
       "      <td>2021-02-05</td>\n",
       "      <td>0</td>\n",
       "      <td>404.0</td>\n",
       "      <td>MEX</td>\n",
       "      <td>classic</td>\n",
       "      <td>cross_docking</td>\n",
       "      <td>free_shipping</td>\n",
       "      <td>0.0</td>\n",
       "    </tr>\n",
       "  </tbody>\n",
       "</table>\n",
       "</div>"
      ],
      "text/plain": [
       "             sku       date  sold_quantity  current_price currency  \\\n",
       "20373673  125729 2021-02-01              0          404.0      MEX   \n",
       "20373674  125729 2021-02-02              0          404.0      MEX   \n",
       "20373675  125729 2021-02-03              0          404.0      MEX   \n",
       "20373676  125729 2021-02-04              0          404.0      MEX   \n",
       "20373677  125729 2021-02-05              0          404.0      MEX   \n",
       "\n",
       "         listing_type shipping_logistic_type shipping_payment  minutes_active  \n",
       "20373673      classic          cross_docking    free_shipping             0.0  \n",
       "20373674      classic          cross_docking    free_shipping             0.0  \n",
       "20373675      classic          cross_docking    free_shipping             0.0  \n",
       "20373676      classic          cross_docking    free_shipping             0.0  \n",
       "20373677      classic          cross_docking    free_shipping             0.0  "
      ]
     },
     "execution_count": 13,
     "metadata": {},
     "output_type": "execute_result"
    }
   ],
   "source": [
    "sku_choices = np.random.choice(len(data_train.sku.unique()),1) #Choose sku at random\n",
    "filt_sku = data_train[data_train.sku == sku_choices[0] ]\n",
    "filt_sku.head()"
   ]
  },
  {
   "cell_type": "code",
   "execution_count": 11,
   "metadata": {
    "tags": []
   },
   "outputs": [],
   "source": [
    "def pdf_n_days(dist_prob,n):\n",
    "    \"\"\"Returns the pdf after n iterations given the distribution probability of one iteration\n",
    "    This is assuming that every iteration is independent of the previous one. So in this case the pdf is the convolution.\n",
    "    Paraments:\n",
    "    dist_prob (np.array): distribuion probability of one iteration\n",
    "    n (integer): number of iterations\n",
    "    \n",
    "    Returns:\n",
    "    probability(np.array): pdf after n iterations\"\"\"\n",
    "    prob = cp.copy(dist_prob)\n",
    "    for i in range(n):\n",
    "        prob = np.convolve(prob,dist_prob)\n",
    "    return prob"
   ]
  },
  {
   "cell_type": "code",
   "execution_count": 14,
   "metadata": {},
   "outputs": [
    {
     "data": {
      "text/plain": [
       "Text(0.5, 0, 'sells')"
      ]
     },
     "execution_count": 14,
     "metadata": {},
     "output_type": "execute_result"
    },
    {
     "data": {
      "application/vnd.jupyter.widget-view+json": {
       "model_id": "d202c3f3ab2f4c5787598c8df69cf8d5",
       "version_major": 2,
       "version_minor": 0
      },
      "image/png": "[encoded data removed]",
      "text/plain": [
       "Canvas(toolbar=Toolbar(toolitems=[('Home', 'Reset original view', 'home', 'home'), ('Back', 'Back to previous …"
      ]
     },
     "metadata": {},
     "output_type": "display_data"
    }
   ],
   "source": [
    "## Ploteamos un sold_quantity aleatorio\n",
    "\n",
    "fig, ax = plt.subplots(3,1,figsize = (10,10))\n",
    "ax[0].plot_date(filt_sku.date,filt_sku.sold_quantity,\n",
    "             **dict(marker=\"o\",linestyle=\":\",alpha=.8,mfc=\"none\"))\n",
    "ax[0].set_ylabel(\"Sold_quantity\")\n",
    "ax[0].set_xlabel(\"Date\")\n",
    "\n",
    "# Sacamos histograma de ventas y normalizamos, de esta se manera se obtienen probabilidades de vender N productos en un dado día.\n",
    "hist,bins = np.histogram(filt_sku.sold_quantity,bins = np.arange(0,5,1))\n",
    "prob = hist/hist.sum()\n",
    "ax[1].bar(bins[:-1],prob)\n",
    "\n",
    "#Convolucionando obtenemos la distribución de probabilidades para días siguientes\n",
    "for n in np.arange(1,30,6):\n",
    "    prob_n_days = pdf_n_days(prob,n)\n",
    "    sells = np.arange(prob_n_days.size)\n",
    "    ax[2].bar(sells,prob_n_days,alpha=.7,label = f\"{n} days\")\n",
    "ax[2].set_ylabel(\"probability\")\n",
    "ax[2].legend()\n",
    "ax[2].set_xlim(-0.5,30)\n",
    "ax[2].set_xlabel(\"sells\")\n"
   ]
  },
  {
   "cell_type": "code",
   "execution_count": 9,
   "metadata": {},
   "outputs": [
    {
     "name": "stdout",
     "output_type": "stream",
     "text": [
      "Period is 58 days\n",
      "This sku as a total of 15 sales\n"
     ]
    }
   ],
   "source": [
    "# -- what is the range of days for this sku?\n",
    "T_sku464801 = filt_sku.date.max() - filt_sku.date.min()\n",
    "print(f\"Period is {T_sku464801.days} days\")\n",
    "\n",
    "# -- what is the total amount of sales for this sku?\n",
    "tot_sold_sku464801 = filt_sku[\"sold_quantity\"].sum()\n",
    "\n",
    "print(f\"This sku as a total of {tot_sold_sku464801} sales\")"
   ]
  },
  {
   "cell_type": "markdown",
   "metadata": {},
   "source": [
    "## Analysis by `sku`"
   ]
  },
  {
   "cell_type": "code",
   "execution_count": 19,
   "metadata": {},
   "outputs": [],
   "source": [
    "# -- Do we have the same amount of data by days for every sku?\n",
    "#    Let's check the sku vs T[days] distribution\n",
    "\n",
    "# tt = train_raw_DF.groupby(by=[\"sku\",\"date\"])\n",
    "maxt = data_train.loc[:,[\"sku\",\"date\"]].groupby(by=[\"sku\"]).max()\n",
    "mint = data_train.loc[:,[\"sku\",\"date\"]].groupby(by=[\"sku\"]).min()\n",
    "T = maxt - mint\n",
    "\n",
    "# -- convert T to int.\n",
    "T.date = T.date.dt.days\n"
   ]
  },
  {
   "cell_type": "code",
   "execution_count": 21,
   "metadata": {},
   "outputs": [
    {
     "data": {
      "application/vnd.jupyter.widget-view+json": {
       "model_id": "a521aa4030ba47dcb829fb7504a191fc",
       "version_major": 2,
       "version_minor": 0
      },
      "text/plain": [
       "Canvas(toolbar=Toolbar(toolitems=[('Home', 'Reset original view', 'home', 'home'), ('Back', 'Back to previous …"
      ]
     },
     "metadata": {},
     "output_type": "display_data"
    }
   ],
   "source": [
    "_fs = 16\n",
    "bin_edges = [0,5,10,15,20,25,30,35,40,45,50,55,56,57,58,59,60,70]\n",
    "plt.figure()\n",
    "plt.hist(x=T.date,bins=bin_edges,\n",
    "         histtype=\"step\",\n",
    "         **dict(lw=2,alpha=.8))\n",
    "plt.xlabel(\"T [days]\",fontsize=_fs)\n",
    "plt.ylabel(\"Count sku\",fontsize=_fs)\n",
    "plt.yscale(\"log\")\n",
    "plt.ylim((1e3,1e6))\n",
    "plt.grid()\n",
    "plt.show()"
   ]
  },
  {
   "cell_type": "markdown",
   "metadata": {},
   "source": [
    "## Simple correlation analysis\n",
    "\n",
    "There exists a correlation dependence on the number of elements sold?  \n",
    "We calculate the correlations by `sku`. Since there are roughly 660000 sku, a correlation matrix would be of size 660000^2 elements, not practical. What to do?"
   ]
  },
  {
   "cell_type": "code",
   "execution_count": 36,
   "metadata": {},
   "outputs": [],
   "source": [
    "sku_choices = np.random.choice(len(data_train.sku.unique()),2) #Choose sku at random"
   ]
  },
  {
   "cell_type": "code",
   "execution_count": 37,
   "metadata": {},
   "outputs": [],
   "source": [
    "x = data_train[data_train.sku == sku_choices[0]]\n",
    "y = data_train[data_train.sku == sku_choices[1]]"
   ]
  },
  {
   "cell_type": "code",
   "execution_count": 38,
   "metadata": {},
   "outputs": [],
   "source": [
    "corr = np.correlate(x.sold_quantity,y.sold_quantity,mode = \"full\") # Correlate, this mode is not a simple correlation but a convolution. "
   ]
  },
  {
   "cell_type": "code",
   "execution_count": 39,
   "metadata": {},
   "outputs": [
    {
     "name": "stderr",
     "output_type": "stream",
     "text": [
      "<ipython-input-39-ef7c643c30a6>:1: RuntimeWarning: More than 20 figures have been opened. Figures created through the pyplot interface (`matplotlib.pyplot.figure`) are retained until explicitly closed and may consume too much memory. (To control this warning, see the rcParam `figure.max_open_warning`).\n",
      "  fig,ax = plt.subplots(1,2,figsize = (10,5))\n"
     ]
    },
    {
     "data": {
      "application/vnd.jupyter.widget-view+json": {
       "model_id": "52966cda4def4d4fb63c28c79f046a2a",
       "version_major": 2,
       "version_minor": 0
      },
      "text/plain": [
       "Canvas(toolbar=Toolbar(toolitems=[('Home', 'Reset original view', 'home', 'home'), ('Back', 'Back to previous …"
      ]
     },
     "metadata": {},
     "output_type": "display_data"
    },
    {
     "data": {
      "text/plain": [
       "Text(0, 0.5, 'y current price')"
      ]
     },
     "execution_count": 39,
     "metadata": {},
     "output_type": "execute_result"
    }
   ],
   "source": [
    "fig,ax = plt.subplots(1,2,figsize = (10,5))\n",
    "days = np.arange(-corr.size//2,corr.size//2)\n",
    "ax[0].plot(days,corr)\n",
    "ax[0].set_ylabel(\"correlation\")\n",
    "ax[1].scatter(x.current_price,y.current_price)\n",
    "ax[1].set_xlabel(\"x current price\")\n",
    "ax[1].set_ylabel(\"y current price\")"
   ]
  },
  {
   "cell_type": "code",
   "execution_count": null,
   "metadata": {},
   "outputs": [],
   "source": []
  }
 ],
 "metadata": {
  "kernelspec": {
   "display_name": "Python 3",
   "language": "python",
   "name": "python3"
  },
  "language_info": {
   "codemirror_mode": {
    "name": "ipython",
    "version": 3
   },
   "file_extension": ".py",
   "mimetype": "text/x-python",
   "name": "python",
   "nbconvert_exporter": "python",
   "pygments_lexer": "ipython3",
   "version": "3.8.10"
  }
 },
 "nbformat": 4,
 "nbformat_minor": 4
}
